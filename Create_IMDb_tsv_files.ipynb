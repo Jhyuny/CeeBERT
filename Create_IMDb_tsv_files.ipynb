{
  "cells": [
    {
      "cell_type": "code",
      "execution_count": 4,
      "metadata": {
        "colab": {
          "base_uri": "https://localhost:8080/"
        },
        "id": "3xyO1bVRtQsu",
        "outputId": "42a62267-1faa-4cc0-af46-853b1fd0f488"
      },
      "outputs": [
        {
          "name": "stdout",
          "output_type": "stream",
          "text": [
            "Cloning into 'imdb_data'...\n"
          ]
        },
        {
          "name": "stdout",
          "output_type": "stream",
          "text": [
            "remote: Enumerating objects: 12, done.\u001b[K\n",
            "remote: Total 12 (delta 0), reused 0 (delta 0), pack-reused 12 (from 1)\u001b[K\n",
            "Unpacking objects: 100% (12/12), 15.20 KiB | 3.80 MiB/s, done.\n"
          ]
        }
      ],
      "source": [
        "!git clone https://github.com/hsm207/imdb_data.git"
      ]
    },
    {
      "cell_type": "code",
      "execution_count": 1,
      "metadata": {
        "colab": {
          "base_uri": "https://localhost:8080/"
        },
        "id": "VMuGbpPKt5PO",
        "outputId": "1f45f6aa-ab65-403a-b5af-b942bdb2ec13"
      },
      "outputs": [
        {
          "name": "stdout",
          "output_type": "stream",
          "text": [
            "[Errno 2] No such file or directory: 'imdb_data'\n",
            "/home/aix7101/jeong/CeeBERT\n"
          ]
        },
        {
          "name": "stderr",
          "output_type": "stream",
          "text": [
            "/home/aix7101/anaconda3/envs/j_ceebert/lib/python3.9/site-packages/IPython/core/magics/osm.py:393: UserWarning: using bookmarks requires you to install the `pickleshare` library.\n",
            "  bkms = self.shell.db.get('bookmarks', {})\n"
          ]
        },
        {
          "name": "stdout",
          "output_type": "stream",
          "text": [
            "Requirement already satisfied: transformers==4.6.1 in /home/aix7101/anaconda3/envs/j_ceebert/lib/python3.9/site-packages (from -r requirements.txt (line 1)) (4.6.1)\n",
            "Requirement already satisfied: fitlog in /home/aix7101/anaconda3/envs/j_ceebert/lib/python3.9/site-packages (from -r requirements.txt (line 2)) (0.9.15)\n",
            "Requirement already satisfied: torch in /home/aix7101/anaconda3/envs/j_ceebert/lib/python3.9/site-packages (from -r requirements.txt (line 3)) (2.5.1+cu121)\n",
            "Requirement already satisfied: filelock in /home/aix7101/anaconda3/envs/j_ceebert/lib/python3.9/site-packages (from transformers==4.6.1->-r requirements.txt (line 1)) (3.18.0)\n",
            "Collecting huggingface-hub==0.0.8 (from transformers==4.6.1->-r requirements.txt (line 1))\n",
            "  Using cached huggingface_hub-0.0.8-py3-none-any.whl.metadata (8.7 kB)\n",
            "Requirement already satisfied: numpy>=1.17 in /home/aix7101/anaconda3/envs/j_ceebert/lib/python3.9/site-packages (from transformers==4.6.1->-r requirements.txt (line 1)) (1.23.5)\n",
            "Requirement already satisfied: packaging in /home/aix7101/anaconda3/envs/j_ceebert/lib/python3.9/site-packages (from transformers==4.6.1->-r requirements.txt (line 1)) (24.2)\n",
            "Requirement already satisfied: regex!=2019.12.17 in /home/aix7101/anaconda3/envs/j_ceebert/lib/python3.9/site-packages (from transformers==4.6.1->-r requirements.txt (line 1)) (2024.11.6)\n",
            "Requirement already satisfied: requests in /home/aix7101/anaconda3/envs/j_ceebert/lib/python3.9/site-packages (from transformers==4.6.1->-r requirements.txt (line 1)) (2.32.3)\n",
            "Requirement already satisfied: sacremoses in /home/aix7101/anaconda3/envs/j_ceebert/lib/python3.9/site-packages (from transformers==4.6.1->-r requirements.txt (line 1)) (0.1.1)\n",
            "Requirement already satisfied: tokenizers<0.11,>=0.10.1 in /home/aix7101/anaconda3/envs/j_ceebert/lib/python3.9/site-packages (from transformers==4.6.1->-r requirements.txt (line 1)) (0.10.3)\n",
            "Requirement already satisfied: tqdm>=4.27 in /home/aix7101/anaconda3/envs/j_ceebert/lib/python3.9/site-packages (from transformers==4.6.1->-r requirements.txt (line 1)) (4.67.1)\n",
            "Requirement already satisfied: docopt>=0.6.2 in /home/aix7101/anaconda3/envs/j_ceebert/lib/python3.9/site-packages (from fitlog->-r requirements.txt (line 2)) (0.6.2)\n",
            "Requirement already satisfied: flask>=1.0.2 in /home/aix7101/anaconda3/envs/j_ceebert/lib/python3.9/site-packages (from fitlog->-r requirements.txt (line 2)) (3.1.0)\n",
            "Requirement already satisfied: gitpython>=3.1.2 in /home/aix7101/anaconda3/envs/j_ceebert/lib/python3.9/site-packages (from fitlog->-r requirements.txt (line 2)) (3.1.44)\n",
            "Requirement already satisfied: typing-extensions>=4.8.0 in /home/aix7101/anaconda3/envs/j_ceebert/lib/python3.9/site-packages (from torch->-r requirements.txt (line 3)) (4.12.2)\n",
            "Requirement already satisfied: networkx in /home/aix7101/anaconda3/envs/j_ceebert/lib/python3.9/site-packages (from torch->-r requirements.txt (line 3)) (3.2.1)\n",
            "Requirement already satisfied: jinja2 in /home/aix7101/anaconda3/envs/j_ceebert/lib/python3.9/site-packages (from torch->-r requirements.txt (line 3)) (3.1.6)\n",
            "Requirement already satisfied: fsspec in /home/aix7101/anaconda3/envs/j_ceebert/lib/python3.9/site-packages (from torch->-r requirements.txt (line 3)) (2024.12.0)\n",
            "Requirement already satisfied: nvidia-cuda-nvrtc-cu12==12.1.105 in /home/aix7101/anaconda3/envs/j_ceebert/lib/python3.9/site-packages (from torch->-r requirements.txt (line 3)) (12.1.105)\n",
            "Requirement already satisfied: nvidia-cuda-runtime-cu12==12.1.105 in /home/aix7101/anaconda3/envs/j_ceebert/lib/python3.9/site-packages (from torch->-r requirements.txt (line 3)) (12.1.105)\n",
            "Requirement already satisfied: nvidia-cuda-cupti-cu12==12.1.105 in /home/aix7101/anaconda3/envs/j_ceebert/lib/python3.9/site-packages (from torch->-r requirements.txt (line 3)) (12.1.105)\n",
            "Requirement already satisfied: nvidia-cudnn-cu12==9.1.0.70 in /home/aix7101/anaconda3/envs/j_ceebert/lib/python3.9/site-packages (from torch->-r requirements.txt (line 3)) (9.1.0.70)\n",
            "Requirement already satisfied: nvidia-cublas-cu12==12.1.3.1 in /home/aix7101/anaconda3/envs/j_ceebert/lib/python3.9/site-packages (from torch->-r requirements.txt (line 3)) (12.1.3.1)\n",
            "Requirement already satisfied: nvidia-cufft-cu12==11.0.2.54 in /home/aix7101/anaconda3/envs/j_ceebert/lib/python3.9/site-packages (from torch->-r requirements.txt (line 3)) (11.0.2.54)\n",
            "Requirement already satisfied: nvidia-curand-cu12==10.3.2.106 in /home/aix7101/anaconda3/envs/j_ceebert/lib/python3.9/site-packages (from torch->-r requirements.txt (line 3)) (10.3.2.106)\n",
            "Requirement already satisfied: nvidia-cusolver-cu12==11.4.5.107 in /home/aix7101/anaconda3/envs/j_ceebert/lib/python3.9/site-packages (from torch->-r requirements.txt (line 3)) (11.4.5.107)\n",
            "Requirement already satisfied: nvidia-cusparse-cu12==12.1.0.106 in /home/aix7101/anaconda3/envs/j_ceebert/lib/python3.9/site-packages (from torch->-r requirements.txt (line 3)) (12.1.0.106)\n",
            "Requirement already satisfied: nvidia-nccl-cu12==2.21.5 in /home/aix7101/anaconda3/envs/j_ceebert/lib/python3.9/site-packages (from torch->-r requirements.txt (line 3)) (2.21.5)\n",
            "Requirement already satisfied: nvidia-nvtx-cu12==12.1.105 in /home/aix7101/anaconda3/envs/j_ceebert/lib/python3.9/site-packages (from torch->-r requirements.txt (line 3)) (12.1.105)\n",
            "Requirement already satisfied: triton==3.1.0 in /home/aix7101/anaconda3/envs/j_ceebert/lib/python3.9/site-packages (from torch->-r requirements.txt (line 3)) (3.1.0)\n",
            "Requirement already satisfied: sympy==1.13.1 in /home/aix7101/anaconda3/envs/j_ceebert/lib/python3.9/site-packages (from torch->-r requirements.txt (line 3)) (1.13.1)\n",
            "Requirement already satisfied: nvidia-nvjitlink-cu12 in /home/aix7101/anaconda3/envs/j_ceebert/lib/python3.9/site-packages (from nvidia-cusolver-cu12==11.4.5.107->torch->-r requirements.txt (line 3)) (12.4.127)\n",
            "Requirement already satisfied: mpmath<1.4,>=1.1.0 in /home/aix7101/anaconda3/envs/j_ceebert/lib/python3.9/site-packages (from sympy==1.13.1->torch->-r requirements.txt (line 3)) (1.3.0)\n",
            "Requirement already satisfied: Werkzeug>=3.1 in /home/aix7101/anaconda3/envs/j_ceebert/lib/python3.9/site-packages (from flask>=1.0.2->fitlog->-r requirements.txt (line 2)) (3.1.3)\n",
            "Requirement already satisfied: itsdangerous>=2.2 in /home/aix7101/anaconda3/envs/j_ceebert/lib/python3.9/site-packages (from flask>=1.0.2->fitlog->-r requirements.txt (line 2)) (2.2.0)\n",
            "Requirement already satisfied: click>=8.1.3 in /home/aix7101/anaconda3/envs/j_ceebert/lib/python3.9/site-packages (from flask>=1.0.2->fitlog->-r requirements.txt (line 2)) (8.1.8)\n",
            "Requirement already satisfied: blinker>=1.9 in /home/aix7101/anaconda3/envs/j_ceebert/lib/python3.9/site-packages (from flask>=1.0.2->fitlog->-r requirements.txt (line 2)) (1.9.0)\n",
            "Requirement already satisfied: importlib-metadata>=3.6 in /home/aix7101/anaconda3/envs/j_ceebert/lib/python3.9/site-packages (from flask>=1.0.2->fitlog->-r requirements.txt (line 2)) (8.6.1)\n",
            "Requirement already satisfied: gitdb<5,>=4.0.1 in /home/aix7101/anaconda3/envs/j_ceebert/lib/python3.9/site-packages (from gitpython>=3.1.2->fitlog->-r requirements.txt (line 2)) (4.0.12)\n",
            "Requirement already satisfied: MarkupSafe>=2.0 in /home/aix7101/anaconda3/envs/j_ceebert/lib/python3.9/site-packages (from jinja2->torch->-r requirements.txt (line 3)) (3.0.2)\n",
            "Requirement already satisfied: charset-normalizer<4,>=2 in /home/aix7101/anaconda3/envs/j_ceebert/lib/python3.9/site-packages (from requests->transformers==4.6.1->-r requirements.txt (line 1)) (3.4.1)\n",
            "Requirement already satisfied: idna<4,>=2.5 in /home/aix7101/anaconda3/envs/j_ceebert/lib/python3.9/site-packages (from requests->transformers==4.6.1->-r requirements.txt (line 1)) (3.10)\n",
            "Requirement already satisfied: urllib3<3,>=1.21.1 in /home/aix7101/anaconda3/envs/j_ceebert/lib/python3.9/site-packages (from requests->transformers==4.6.1->-r requirements.txt (line 1)) (2.3.0)\n",
            "Requirement already satisfied: certifi>=2017.4.17 in /home/aix7101/anaconda3/envs/j_ceebert/lib/python3.9/site-packages (from requests->transformers==4.6.1->-r requirements.txt (line 1)) (2025.1.31)\n",
            "Requirement already satisfied: joblib in /home/aix7101/anaconda3/envs/j_ceebert/lib/python3.9/site-packages (from sacremoses->transformers==4.6.1->-r requirements.txt (line 1)) (1.4.2)\n",
            "Requirement already satisfied: smmap<6,>=3.0.1 in /home/aix7101/anaconda3/envs/j_ceebert/lib/python3.9/site-packages (from gitdb<5,>=4.0.1->gitpython>=3.1.2->fitlog->-r requirements.txt (line 2)) (5.0.2)\n",
            "Requirement already satisfied: zipp>=3.20 in /home/aix7101/anaconda3/envs/j_ceebert/lib/python3.9/site-packages (from importlib-metadata>=3.6->flask>=1.0.2->fitlog->-r requirements.txt (line 2)) (3.21.0)\n",
            "Using cached huggingface_hub-0.0.8-py3-none-any.whl (34 kB)\n",
            "Installing collected packages: huggingface-hub\n",
            "  Attempting uninstall: huggingface-hub\n",
            "    Found existing installation: huggingface-hub 0.29.3\n",
            "    Uninstalling huggingface-hub-0.29.3:\n",
            "      Successfully uninstalled huggingface-hub-0.29.3\n",
            "\u001b[31mERROR: pip's dependency resolver does not currently take into account all the packages that are installed. This behaviour is the source of the following dependency conflicts.\n",
            "datasets 3.4.1 requires huggingface-hub>=0.24.0, but you have huggingface-hub 0.0.8 which is incompatible.\u001b[0m\u001b[31m\n",
            "\u001b[0mSuccessfully installed huggingface-hub-0.0.8\n"
          ]
        }
      ],
      "source": [
        "%cd imdb_data\n",
        "!pip install -r requirements.txt"
      ]
    },
    {
      "cell_type": "code",
      "execution_count": 2,
      "metadata": {
        "colab": {
          "base_uri": "https://localhost:8080/"
        },
        "id": "0qXrHyM8z_Oo",
        "outputId": "28d65167-522b-4937-8ac8-052a114fed8f"
      },
      "outputs": [
        {
          "name": "stdout",
          "output_type": "stream",
          "text": [
            "zsh:1: command not found: tf_upgrade_v2\n"
          ]
        }
      ],
      "source": [
        "!tf_upgrade_v2 --infile create_imdb_dataset.py --outfile bar.py"
      ]
    },
    {
      "cell_type": "code",
      "execution_count": 5,
      "metadata": {},
      "outputs": [
        {
          "data": {
            "text/plain": [
              "'/home/aix7101/jeong/CeeBERT'"
            ]
          },
          "execution_count": 5,
          "metadata": {},
          "output_type": "execute_result"
        }
      ],
      "source": [
        "pwd"
      ]
    },
    {
      "cell_type": "code",
      "execution_count": 7,
      "metadata": {
        "colab": {
          "base_uri": "https://localhost:8080/"
        },
        "id": "b8fc93k4t_tX",
        "outputId": "39022ecf-a250-471c-97b5-7cc27c112784"
      },
      "outputs": [
        {
          "name": "stdout",
          "output_type": "stream",
          "text": [
            "2025-04-01 13:55:23.478725: E external/local_xla/xla/stream_executor/cuda/cuda_fft.cc:467] Unable to register cuFFT factory: Attempting to register factory for plugin cuFFT when one has already been registered\n",
            "WARNING: All log messages before absl::InitializeLog() is called are written to STDERR\n",
            "E0000 00:00:1743483323.492713  531061 cuda_dnn.cc:8579] Unable to register cuDNN factory: Attempting to register factory for plugin cuDNN when one has already been registered\n",
            "E0000 00:00:1743483323.496761  531061 cuda_blas.cc:1407] Unable to register cuBLAS factory: Attempting to register factory for plugin cuBLAS when one has already been registered\n",
            "W0000 00:00:1743483323.509485  531061 computation_placer.cc:177] computation placer already registered. Please check linkage and avoid linking the same target more than once.\n",
            "W0000 00:00:1743483323.509513  531061 computation_placer.cc:177] computation placer already registered. Please check linkage and avoid linking the same target more than once.\n",
            "W0000 00:00:1743483323.509516  531061 computation_placer.cc:177] computation placer already registered. Please check linkage and avoid linking the same target more than once.\n",
            "W0000 00:00:1743483323.509519  531061 computation_placer.cc:177] computation placer already registered. Please check linkage and avoid linking the same target more than once.\n",
            "2025-04-01 13:55:23.518383: I tensorflow/core/platform/cpu_feature_guard.cc:210] This TensorFlow binary is optimized to use available CPU instructions in performance-critical operations.\n",
            "To enable the following instructions: AVX2 FMA, in other operations, rebuild TensorFlow with the appropriate compiler flags.\n",
            "Traceback (most recent call last):\n",
            "  File \"/home/aix7101/jeong/CeeBERT/imdb_data/create_imdb_dataset.py\", line 1, in <module>\n",
            "    from tensor2tensor.data_generators.imdb import SentimentIMDB\n",
            "  File \"/home/aix7101/anaconda3/envs/j_ceebert/lib/python3.9/site-packages/tensor2tensor/data_generators/imdb.py\", line 24, in <module>\n",
            "    from tensor2tensor.data_generators import generator_utils\n",
            "  File \"/home/aix7101/anaconda3/envs/j_ceebert/lib/python3.9/site-packages/tensor2tensor/data_generators/generator_utils.py\", line 1171, in <module>\n",
            "    dataset_split=tf.estimator.ModeKeys.TRAIN):\n",
            "  File \"/home/aix7101/anaconda3/envs/j_ceebert/lib/python3.9/site-packages/tensorflow/python/util/module_wrapper.py\", line 232, in _getattr\n",
            "    attr = getattr(self._tfmw_wrapped_module, name)\n",
            "AttributeError: module 'tensorflow.compat.v1' has no attribute 'estimator'\n"
          ]
        }
      ],
      "source": [
        "#Set the output directory for creating train.tsv and test.tsv files\n",
        "!python imdb_data/create_imdb_dataset.py --output_dir /content/imdb_data/imdb_dataset"
      ]
    },
    {
      "cell_type": "code",
      "execution_count": null,
      "metadata": {},
      "outputs": [],
      "source": []
    }
  ],
  "metadata": {
    "colab": {
      "name": "Create_IMDb_tsv_files.ipynb",
      "provenance": []
    },
    "kernelspec": {
      "display_name": "j_ceebert",
      "language": "python",
      "name": "python3"
    },
    "language_info": {
      "codemirror_mode": {
        "name": "ipython",
        "version": 3
      },
      "file_extension": ".py",
      "mimetype": "text/x-python",
      "name": "python",
      "nbconvert_exporter": "python",
      "pygments_lexer": "ipython3",
      "version": "3.9.21"
    }
  },
  "nbformat": 4,
  "nbformat_minor": 0
}
